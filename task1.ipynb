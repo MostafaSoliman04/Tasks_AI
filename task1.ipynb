{
  "nbformat": 4,
  "nbformat_minor": 0,
  "metadata": {
    "colab": {
      "provenance": []
    },
    "kernelspec": {
      "name": "python3",
      "display_name": "Python 3"
    },
    "language_info": {
      "name": "python"
    }
  },
  "cells": [
    {
      "cell_type": "code",
      "execution_count": null,
      "metadata": {
        "id": "3NuPgywVVT-X"
      },
      "outputs": [],
      "source": []
    },
    {
      "cell_type": "markdown",
      "source": [
        "## **1- Write a Python program to find the area of a triangle**"
      ],
      "metadata": {
        "id": "yGQ0PxZIWP0v"
      }
    },
    {
      "cell_type": "code",
      "source": [
        "base = int(input(\"plz enter base: \"))\n",
        "height = int(input(\"plz enter height: \"))\n",
        "print(f\"area of a triangle :{1/2*base*height}\")"
      ],
      "metadata": {
        "id": "fVEa_BPoWYPd",
        "colab": {
          "base_uri": "https://localhost:8080/"
        },
        "outputId": "98c7abc3-23e5-4db5-bae7-a6ad66027156"
      },
      "execution_count": 1,
      "outputs": [
        {
          "output_type": "stream",
          "name": "stdout",
          "text": [
            "plz enter base: 5\n",
            "plz enter height: 4\n",
            "area of a triangle :10.0\n"
          ]
        }
      ]
    },
    {
      "cell_type": "markdown",
      "source": [
        "# **2- Write a Python program to swap two variables.**\n"
      ],
      "metadata": {
        "id": "3DD6RrL1Wa65"
      }
    },
    {
      "cell_type": "code",
      "source": [
        "num1 = int(input(\"Plz enter number one: \"))\n",
        "num2 = int(input(\"Plz enter number two: \"))\n",
        "\n",
        "\n",
        "#way one\n",
        "\"\"\"\n",
        "temp = num1\n",
        "num1 = num2\n",
        "num2 = temp\n",
        "print(f\"number one after swap {num1}, number two after swap {num2}\")\n",
        "\"\"\"\n",
        "#way two\n",
        "\"\"\"\n",
        "num1 += num2\n",
        "num2 = num1 - num2\n",
        "num1 -= num2\n",
        "\"\"\"\n",
        "#way three\n",
        "\"\"\"\n",
        "num1 *= num2\n",
        "num2 = num1 / num2\n",
        "num1 /= num2\n",
        "\"\"\"\n",
        "\n",
        "\n",
        "print(f\"number one after swap {int(num1)}, number two after swap {int(num2)}\")\n"
      ],
      "metadata": {
        "id": "8A-qk-XGWmrK",
        "colab": {
          "base_uri": "https://localhost:8080/"
        },
        "outputId": "f7f47b86-d682-41e7-db8f-1f0508e6359f"
      },
      "execution_count": 13,
      "outputs": [
        {
          "output_type": "stream",
          "name": "stdout",
          "text": [
            "Plz enter number one: 5\n",
            "Plz enter number two: 10\n",
            "number one after swap 10, number two after swap 5\n"
          ]
        }
      ]
    },
    {
      "cell_type": "markdown",
      "source": [
        "# **3-Write a Python program to enter a number from user and convert this number from kilometers to miles.**\n"
      ],
      "metadata": {
        "id": "NXzXheUIXDEf"
      }
    },
    {
      "cell_type": "code",
      "source": [
        "number_By_Kilometers = float(input(\"Enter Number of Kilometers: \"))\n",
        "print(f\"Number by Miles :{number_By_Kilometers*0.621371192}\")"
      ],
      "metadata": {
        "id": "-hO2ACQCX8xA",
        "colab": {
          "base_uri": "https://localhost:8080/"
        },
        "outputId": "19c10681-38bb-4ccc-db76-c5b88e9c4ab0"
      },
      "execution_count": 16,
      "outputs": [
        {
          "output_type": "stream",
          "name": "stdout",
          "text": [
            "Enter Number of Kilometers: 5\n",
            "Number by Miles :3.10685596\n"
          ]
        }
      ]
    }
  ]
}